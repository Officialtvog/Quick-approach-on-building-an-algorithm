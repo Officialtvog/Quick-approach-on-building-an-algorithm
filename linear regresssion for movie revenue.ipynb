{
 "cells": [
  {
   "cell_type": "markdown",
   "metadata": {},
   "source": [
    "#### KNOWLEDGE TO START BUILDING AN ALGORITHM\n",
    "To create a sucessful machine learning model you need to follow some steps\n",
    "\n",
    "1.Formulate the question\n",
    "\n",
    "2.Gather and clean the data\n",
    "\n",
    "3.visualise the data\n",
    "\n",
    "4.Train the algorithm\n",
    "\n",
    "5.Evaluate the result based on the requirements"
   ]
  },
  {
   "cell_type": "markdown",
   "metadata": {},
   "source": [
    "\n",
    "FROMULATE THE QUESTION\n",
    "\n",
    "We are trying to look into the movies industry,and the question goes thus;\n",
    "\n",
    "How much money / revenue are the movies going to make"
   ]
  },
  {
   "cell_type": "markdown",
   "metadata": {},
   "source": [
    "GATHERING THE DATA\n",
    "\n",
    "I had to download the data from the website(movie revenue),but take note,it was already edited.Right about now to perform analysis on the data,you will need the movie budget in USD and the movie revenue in USD.."
   ]
  },
  {
   "cell_type": "markdown",
   "metadata": {},
   "source": [
    "CLEAN DATA\n",
    "\n",
    "The next step is cleaning the wrong data.you might have noticed that the data contains $0 amount in some cases!!!that\n",
    "\n",
    "was dealt with,thats why i said its edited,because some things were touched,but that wouldt stop us from predicting\n",
    "\n",
    "perfectly\n",
    "\n",
    "i cant really show you that,but if you donwload the original data...you will notice the changes..\n",
    "\n",
    "\n",
    "###NOTE###:my major approach towards this is to explain the knowledge of building an algorithm,but we actually making use of\n",
    "\n",
    "just two columns\n",
    "\n",
    "The reason for the removal of  the $0 rows is beacause we do not want any false failures in the analysis and basically to focus on the ones which have concrete results\n",
    "\n",
    "\n",
    "NOTE:THE FOCUS WILL JUST BE ON TWO COLUMNS\n",
    "\n",
    "namely:\n",
    "\n",
    "1..production budget\n",
    "\n",
    "2..worldwide gross"
   ]
  },
  {
   "cell_type": "markdown",
   "metadata": {},
   "source": [
    "EXPLORE AND VISUALIZE\n",
    "\n",
    "Now its time to visualize how the production project and world wide gross are related to each other\n",
    "\n",
    "to do so we would need to import the csv file,so that we can do some little stuffs on it\n",
    "\n",
    "to access the csv file into the note book,we need to use the the pandas module.\n",
    "\n",
    "by now,i hope you should have known that pandas has a prebuilt data science library thats helps  us to do fast data analysis\n",
    "\n"
   ]
  },
  {
   "cell_type": "markdown",
   "metadata": {},
   "source": [
    "NOTE:there is no crime if you import all the libraries you need for your analysis before you start anything\n",
    "    \n",
    "or you can import them as you need them for every step,\n",
    "\n",
    "but ensure you import and run them as you use them for whatever purpose"
   ]
  },
  {
   "cell_type": "code",
   "execution_count": 2,
   "metadata": {},
   "outputs": [],
   "source": [
    "import pandas\n",
    "from pandas import DataFrame as df\n",
    "import matplotlib.pyplot as mp\n",
    "from sklearn.linear_model import LinearRegression"
   ]
  },
  {
   "cell_type": "code",
   "execution_count": 3,
   "metadata": {},
   "outputs": [],
   "source": [
    "#read csv file into data using pandas read_csv method\n",
    "data = pandas.read_csv('Movie_Revenue_Edited.csv')"
   ]
  },
  {
   "cell_type": "code",
   "execution_count": 4,
   "metadata": {},
   "outputs": [
    {
     "data": {
      "text/html": [
       "<div>\n",
       "<style scoped>\n",
       "    .dataframe tbody tr th:only-of-type {\n",
       "        vertical-align: middle;\n",
       "    }\n",
       "\n",
       "    .dataframe tbody tr th {\n",
       "        vertical-align: top;\n",
       "    }\n",
       "\n",
       "    .dataframe thead th {\n",
       "        text-align: right;\n",
       "    }\n",
       "</style>\n",
       "<table border=\"1\" class=\"dataframe\">\n",
       "  <thead>\n",
       "    <tr style=\"text-align: right;\">\n",
       "      <th></th>\n",
       "      <th>production_budget</th>\n",
       "      <th>worldwide_gross</th>\n",
       "    </tr>\n",
       "  </thead>\n",
       "  <tbody>\n",
       "    <tr>\n",
       "      <th>0</th>\n",
       "      <td>1000000</td>\n",
       "      <td>26</td>\n",
       "    </tr>\n",
       "    <tr>\n",
       "      <th>1</th>\n",
       "      <td>10000</td>\n",
       "      <td>401</td>\n",
       "    </tr>\n",
       "    <tr>\n",
       "      <th>2</th>\n",
       "      <td>400000</td>\n",
       "      <td>423</td>\n",
       "    </tr>\n",
       "    <tr>\n",
       "      <th>3</th>\n",
       "      <td>750000</td>\n",
       "      <td>450</td>\n",
       "    </tr>\n",
       "    <tr>\n",
       "      <th>4</th>\n",
       "      <td>10000</td>\n",
       "      <td>527</td>\n",
       "    </tr>\n",
       "    <tr>\n",
       "      <th>5</th>\n",
       "      <td>1800000</td>\n",
       "      <td>673</td>\n",
       "    </tr>\n",
       "    <tr>\n",
       "      <th>6</th>\n",
       "      <td>1000000</td>\n",
       "      <td>703</td>\n",
       "    </tr>\n",
       "    <tr>\n",
       "      <th>7</th>\n",
       "      <td>6600000</td>\n",
       "      <td>828</td>\n",
       "    </tr>\n",
       "    <tr>\n",
       "      <th>8</th>\n",
       "      <td>1000000</td>\n",
       "      <td>884</td>\n",
       "    </tr>\n",
       "    <tr>\n",
       "      <th>9</th>\n",
       "      <td>7000</td>\n",
       "      <td>900</td>\n",
       "    </tr>\n",
       "    <tr>\n",
       "      <th>10</th>\n",
       "      <td>2000000</td>\n",
       "      <td>926</td>\n",
       "    </tr>\n",
       "    <tr>\n",
       "      <th>11</th>\n",
       "      <td>1000000</td>\n",
       "      <td>1036</td>\n",
       "    </tr>\n",
       "    <tr>\n",
       "      <th>12</th>\n",
       "      <td>700000</td>\n",
       "      <td>1160</td>\n",
       "    </tr>\n",
       "    <tr>\n",
       "      <th>13</th>\n",
       "      <td>200000</td>\n",
       "      <td>1217</td>\n",
       "    </tr>\n",
       "    <tr>\n",
       "      <th>14</th>\n",
       "      <td>9000000</td>\n",
       "      <td>1242</td>\n",
       "    </tr>\n",
       "    <tr>\n",
       "      <th>15</th>\n",
       "      <td>12000</td>\n",
       "      <td>1336</td>\n",
       "    </tr>\n",
       "    <tr>\n",
       "      <th>16</th>\n",
       "      <td>5000</td>\n",
       "      <td>1338</td>\n",
       "    </tr>\n",
       "    <tr>\n",
       "      <th>17</th>\n",
       "      <td>100000</td>\n",
       "      <td>1358</td>\n",
       "    </tr>\n",
       "    <tr>\n",
       "      <th>18</th>\n",
       "      <td>1400000</td>\n",
       "      <td>1632</td>\n",
       "    </tr>\n",
       "    <tr>\n",
       "      <th>19</th>\n",
       "      <td>300000</td>\n",
       "      <td>1711</td>\n",
       "    </tr>\n",
       "    <tr>\n",
       "      <th>20</th>\n",
       "      <td>500000</td>\n",
       "      <td>1778</td>\n",
       "    </tr>\n",
       "    <tr>\n",
       "      <th>21</th>\n",
       "      <td>500000</td>\n",
       "      <td>1822</td>\n",
       "    </tr>\n",
       "    <tr>\n",
       "      <th>22</th>\n",
       "      <td>10000</td>\n",
       "      <td>1987</td>\n",
       "    </tr>\n",
       "    <tr>\n",
       "      <th>23</th>\n",
       "      <td>1500000</td>\n",
       "      <td>2105</td>\n",
       "    </tr>\n",
       "    <tr>\n",
       "      <th>24</th>\n",
       "      <td>5000000</td>\n",
       "      <td>2199</td>\n",
       "    </tr>\n",
       "    <tr>\n",
       "      <th>25</th>\n",
       "      <td>9000000</td>\n",
       "      <td>2243</td>\n",
       "    </tr>\n",
       "    <tr>\n",
       "      <th>26</th>\n",
       "      <td>2000000</td>\n",
       "      <td>2436</td>\n",
       "    </tr>\n",
       "    <tr>\n",
       "      <th>27</th>\n",
       "      <td>175000</td>\n",
       "      <td>2602</td>\n",
       "    </tr>\n",
       "    <tr>\n",
       "      <th>28</th>\n",
       "      <td>1100000</td>\n",
       "      <td>2636</td>\n",
       "    </tr>\n",
       "    <tr>\n",
       "      <th>29</th>\n",
       "      <td>6500000</td>\n",
       "      <td>3149</td>\n",
       "    </tr>\n",
       "    <tr>\n",
       "      <th>...</th>\n",
       "      <td>...</td>\n",
       "      <td>...</td>\n",
       "    </tr>\n",
       "    <tr>\n",
       "      <th>5004</th>\n",
       "      <td>185000000</td>\n",
       "      <td>1002572859</td>\n",
       "    </tr>\n",
       "    <tr>\n",
       "      <th>5005</th>\n",
       "      <td>250000000</td>\n",
       "      <td>1017003568</td>\n",
       "    </tr>\n",
       "    <tr>\n",
       "      <th>5006</th>\n",
       "      <td>150000000</td>\n",
       "      <td>1019922983</td>\n",
       "    </tr>\n",
       "    <tr>\n",
       "      <th>5007</th>\n",
       "      <td>200000000</td>\n",
       "      <td>1022617376</td>\n",
       "    </tr>\n",
       "    <tr>\n",
       "      <th>5008</th>\n",
       "      <td>200000000</td>\n",
       "      <td>1025491110</td>\n",
       "    </tr>\n",
       "    <tr>\n",
       "      <th>5009</th>\n",
       "      <td>115000000</td>\n",
       "      <td>1027044677</td>\n",
       "    </tr>\n",
       "    <tr>\n",
       "      <th>5010</th>\n",
       "      <td>63000000</td>\n",
       "      <td>1038812584</td>\n",
       "    </tr>\n",
       "    <tr>\n",
       "      <th>5011</th>\n",
       "      <td>250000000</td>\n",
       "      <td>1045663875</td>\n",
       "    </tr>\n",
       "    <tr>\n",
       "      <th>5012</th>\n",
       "      <td>200000000</td>\n",
       "      <td>1050988488</td>\n",
       "    </tr>\n",
       "    <tr>\n",
       "      <th>5013</th>\n",
       "      <td>225000000</td>\n",
       "      <td>1066215812</td>\n",
       "    </tr>\n",
       "    <tr>\n",
       "      <th>5014</th>\n",
       "      <td>200000000</td>\n",
       "      <td>1069818229</td>\n",
       "    </tr>\n",
       "    <tr>\n",
       "      <th>5015</th>\n",
       "      <td>275000000</td>\n",
       "      <td>1084439099</td>\n",
       "    </tr>\n",
       "    <tr>\n",
       "      <th>5016</th>\n",
       "      <td>210000000</td>\n",
       "      <td>1104039076</td>\n",
       "    </tr>\n",
       "    <tr>\n",
       "      <th>5017</th>\n",
       "      <td>200000000</td>\n",
       "      <td>1110526981</td>\n",
       "    </tr>\n",
       "    <tr>\n",
       "      <th>5018</th>\n",
       "      <td>195000000</td>\n",
       "      <td>1123790543</td>\n",
       "    </tr>\n",
       "    <tr>\n",
       "      <th>5019</th>\n",
       "      <td>94000000</td>\n",
       "      <td>1141403341</td>\n",
       "    </tr>\n",
       "    <tr>\n",
       "      <th>5020</th>\n",
       "      <td>250000000</td>\n",
       "      <td>1151684349</td>\n",
       "    </tr>\n",
       "    <tr>\n",
       "      <th>5021</th>\n",
       "      <td>74000000</td>\n",
       "      <td>1167245366</td>\n",
       "    </tr>\n",
       "    <tr>\n",
       "      <th>5022</th>\n",
       "      <td>200000000</td>\n",
       "      <td>1215392272</td>\n",
       "    </tr>\n",
       "    <tr>\n",
       "      <th>5023</th>\n",
       "      <td>250000000</td>\n",
       "      <td>1237444462</td>\n",
       "    </tr>\n",
       "    <tr>\n",
       "      <th>5024</th>\n",
       "      <td>160000000</td>\n",
       "      <td>1260122363</td>\n",
       "    </tr>\n",
       "    <tr>\n",
       "      <th>5025</th>\n",
       "      <td>150000000</td>\n",
       "      <td>1274234980</td>\n",
       "    </tr>\n",
       "    <tr>\n",
       "      <th>5026</th>\n",
       "      <td>125000000</td>\n",
       "      <td>1341511219</td>\n",
       "    </tr>\n",
       "    <tr>\n",
       "      <th>5027</th>\n",
       "      <td>250000000</td>\n",
       "      <td>1404705868</td>\n",
       "    </tr>\n",
       "    <tr>\n",
       "      <th>5028</th>\n",
       "      <td>190000000</td>\n",
       "      <td>1516748684</td>\n",
       "    </tr>\n",
       "    <tr>\n",
       "      <th>5029</th>\n",
       "      <td>225000000</td>\n",
       "      <td>1519479547</td>\n",
       "    </tr>\n",
       "    <tr>\n",
       "      <th>5030</th>\n",
       "      <td>215000000</td>\n",
       "      <td>1671640593</td>\n",
       "    </tr>\n",
       "    <tr>\n",
       "      <th>5031</th>\n",
       "      <td>306000000</td>\n",
       "      <td>2058662225</td>\n",
       "    </tr>\n",
       "    <tr>\n",
       "      <th>5032</th>\n",
       "      <td>200000000</td>\n",
       "      <td>2207615668</td>\n",
       "    </tr>\n",
       "    <tr>\n",
       "      <th>5033</th>\n",
       "      <td>425000000</td>\n",
       "      <td>2783918982</td>\n",
       "    </tr>\n",
       "  </tbody>\n",
       "</table>\n",
       "<p>5034 rows × 2 columns</p>\n",
       "</div>"
      ],
      "text/plain": [
       "      production_budget  worldwide_gross\n",
       "0               1000000               26\n",
       "1                 10000              401\n",
       "2                400000              423\n",
       "3                750000              450\n",
       "4                 10000              527\n",
       "5               1800000              673\n",
       "6               1000000              703\n",
       "7               6600000              828\n",
       "8               1000000              884\n",
       "9                  7000              900\n",
       "10              2000000              926\n",
       "11              1000000             1036\n",
       "12               700000             1160\n",
       "13               200000             1217\n",
       "14              9000000             1242\n",
       "15                12000             1336\n",
       "16                 5000             1338\n",
       "17               100000             1358\n",
       "18              1400000             1632\n",
       "19               300000             1711\n",
       "20               500000             1778\n",
       "21               500000             1822\n",
       "22                10000             1987\n",
       "23              1500000             2105\n",
       "24              5000000             2199\n",
       "25              9000000             2243\n",
       "26              2000000             2436\n",
       "27               175000             2602\n",
       "28              1100000             2636\n",
       "29              6500000             3149\n",
       "...                 ...              ...\n",
       "5004          185000000       1002572859\n",
       "5005          250000000       1017003568\n",
       "5006          150000000       1019922983\n",
       "5007          200000000       1022617376\n",
       "5008          200000000       1025491110\n",
       "5009          115000000       1027044677\n",
       "5010           63000000       1038812584\n",
       "5011          250000000       1045663875\n",
       "5012          200000000       1050988488\n",
       "5013          225000000       1066215812\n",
       "5014          200000000       1069818229\n",
       "5015          275000000       1084439099\n",
       "5016          210000000       1104039076\n",
       "5017          200000000       1110526981\n",
       "5018          195000000       1123790543\n",
       "5019           94000000       1141403341\n",
       "5020          250000000       1151684349\n",
       "5021           74000000       1167245366\n",
       "5022          200000000       1215392272\n",
       "5023          250000000       1237444462\n",
       "5024          160000000       1260122363\n",
       "5025          150000000       1274234980\n",
       "5026          125000000       1341511219\n",
       "5027          250000000       1404705868\n",
       "5028          190000000       1516748684\n",
       "5029          225000000       1519479547\n",
       "5030          215000000       1671640593\n",
       "5031          306000000       2058662225\n",
       "5032          200000000       2207615668\n",
       "5033          425000000       2783918982\n",
       "\n",
       "[5034 rows x 2 columns]"
      ]
     },
     "execution_count": 4,
     "metadata": {},
     "output_type": "execute_result"
    }
   ],
   "source": [
    "data"
   ]
  },
  {
   "cell_type": "code",
   "execution_count": 5,
   "metadata": {},
   "outputs": [],
   "source": [
    "X = df(data, columns=['production_budget'])\n",
    "Y = df(data, columns=['worldwide_gross'])"
   ]
  },
  {
   "cell_type": "markdown",
   "metadata": {},
   "source": [
    "We will use the scatter plot,to help us find the correlation betweeen these two(2)variables\n",
    "for this to be pssoible we had to import matplotlib.pyplot as plt earlier in the first cell,when we were importing libararies\n",
    "\n",
    "To make the chat more readable,annote the X and Y axes,this can be done using pyplot\"s xlabel and ylabel methods\n",
    "\n",
    "1.production revenue\n",
    "\n",
    "2.worldwide gross"
   ]
  },
  {
   "cell_type": "code",
   "execution_count": 6,
   "metadata": {},
   "outputs": [
    {
     "data": {
      "image/png": "[encoded data removed]",
      "text/plain": [
       "<Figure size 432x288 with 1 Axes>"
      ]
     },
     "metadata": {
      "needs_background": "light"
     },
     "output_type": "display_data"
    }
   ],
   "source": [
    "\n",
    "\n",
    "mp.scatter(X,Y)\n",
    "mp.xlabel('Production revenue in USD')\n",
    "mp.ylabel('Worldwide gross in USD')\n",
    "mp.show()"
   ]
  },
  {
   "cell_type": "markdown",
   "metadata": {},
   "source": [
    "TRAIN THE ALGORITHM\n",
    "Now we can run the regression on the plot to analyse the results.The main goal here is to achieve a straight line or the line of predicted values that would act as a reference to analyse any future predictions\n",
    "\n",
    "To use regression,you will use scikit-learn,which is a very popular machine learning module,earlier we had already imported the module,so we dont need to import it again..."
   ]
  },
  {
   "cell_type": "code",
   "execution_count": 7,
   "metadata": {},
   "outputs": [],
   "source": [
    "regressionObject = LinearRegression();"
   ]
  },
  {
   "cell_type": "markdown",
   "metadata": {},
   "source": [
    "SInce the task of runnning the linear regression model is done by an object,you will need to create a new object in\n",
    "\n",
    "this case,with the name regression object.\n",
    "\n",
    "The fit method can be used to fit the regression model to the data,in other words,you have to make the model learn\n",
    "\n",
    "using thetraining data.For this method we will use the fit method as shown below"
   ]
  },
  {
   "cell_type": "code",
   "execution_count": 8,
   "metadata": {},
   "outputs": [
    {
     "data": {
      "text/plain": [
       "LinearRegression(copy_X=True, fit_intercept=True, n_jobs=None,\n",
       "         normalize=False)"
      ]
     },
     "execution_count": 8,
     "metadata": {},
     "output_type": "execute_result"
    }
   ],
   "source": [
    "regressionObject.fit(X,Y)"
   ]
  },
  {
   "cell_type": "markdown",
   "metadata": {},
   "source": [
    "Once your model is trained with the trainning dataset,you can predict the value for Y using the regreession object.\n",
    "The predict method will help you predict values for Y for each of X"
   ]
  },
  {
   "cell_type": "code",
   "execution_count": 9,
   "metadata": {},
   "outputs": [
    {
     "data": {
      "image/png": "[encoded data removed]",
      "text/plain": [
       "<Figure size 432x288 with 1 Axes>"
      ]
     },
     "metadata": {
      "needs_background": "light"
     },
     "output_type": "display_data"
    }
   ],
   "source": [
    "mp.scatter(X,Y)\n",
    "mp.xlabel('Production revenue in USD')\n",
    "mp.ylabel('Worldwide gross in USD')\n",
    "mp.plot(X, regressionObject.predict(X), color = 'green' )\n",
    "mp.show()"
   ]
  },
  {
   "cell_type": "markdown",
   "metadata": {},
   "source": [
    "ANALYSE\n",
    "\n",
    "So,its time to discuss a how we would analyse properly,as you can see from the plot,there is a postive relatiosnip\n",
    "\n",
    "betweeen the two (2) values,the production revenue and the world wide gross,as production revenue increases,there is an\n",
    "\n",
    "increase in world wide gross,this neans the rate of change of variable Y is proportional to the change in X.\n",
    "\n",
    "take note:When the regression line is linear,the equation of line is  Y =aX + b,the a is the regression\n",
    "\n",
    "coefficient/slope of the line which signifies the variance of Y with the changes in vakues X\n",
    "\n"
   ]
  },
  {
   "cell_type": "code",
   "execution_count": 10,
   "metadata": {},
   "outputs": [
    {
     "data": {
      "text/plain": [
       "array([[3.11150918]])"
      ]
     },
     "execution_count": 10,
     "metadata": {},
     "output_type": "execute_result"
    }
   ],
   "source": [
    "regressionObject.coef_"
   ]
  },
  {
   "cell_type": "markdown",
   "metadata": {},
   "source": [
    "The positive regression coefficient(a) will tell you that there is a positive relatiosnhip between X and Y,the \n",
    "\n",
    "coefficient value can be determined using coef.. property on the regression object,the regresssion coefficient is \n",
    "\n",
    "3.11,which means that for each USD spent for the movie production,you should get $3.11 in return\n",
    "\n",
    "The next step is to calculate the intercept of the line..this can be done by using intercept property on the regression\n",
    "\n",
    "object"
   ]
  },
  {
   "cell_type": "code",
   "execution_count": 11,
   "metadata": {},
   "outputs": [
    {
     "data": {
      "text/plain": [
       "array([-7236192.72913958])"
      ]
     },
     "execution_count": 11,
     "metadata": {},
     "output_type": "execute_result"
    }
   ],
   "source": [
    "regressionObject.intercept_"
   ]
  },
  {
   "cell_type": "markdown",
   "metadata": {},
   "source": [
    "The generalised formula for a line is Y = aX + b,Now consider a hypothetical scenario,where  you want to predict the worldwide revenue that a movie made $20 million in production budget.The estimation can be found by substituting the values in the equation"
   ]
  },
  {
   "cell_type": "code",
   "execution_count": 21,
   "metadata": {},
   "outputs": [
    {
     "data": {
      "text/html": [
       "<div>\n",
       "<style scoped>\n",
       "    .dataframe tbody tr th:only-of-type {\n",
       "        vertical-align: middle;\n",
       "    }\n",
       "\n",
       "    .dataframe tbody tr th {\n",
       "        vertical-align: top;\n",
       "    }\n",
       "\n",
       "    .dataframe thead th {\n",
       "        text-align: right;\n",
       "    }\n",
       "</style>\n",
       "<table border=\"1\" class=\"dataframe\">\n",
       "  <thead>\n",
       "    <tr style=\"text-align: right;\">\n",
       "      <th></th>\n",
       "      <th>Estimated_Budget</th>\n",
       "    </tr>\n",
       "  </thead>\n",
       "  <tbody>\n",
       "    <tr>\n",
       "      <th>0</th>\n",
       "      <td>20000000</td>\n",
       "    </tr>\n",
       "  </tbody>\n",
       "</table>\n",
       "</div>"
      ],
      "text/plain": [
       "   Estimated_Budget\n",
       "0          20000000"
      ]
     },
     "execution_count": 21,
     "metadata": {},
     "output_type": "execute_result"
    }
   ],
   "source": [
    "# Create the pandas DataFrame with our movie Budget\n",
    "data = [[20000000]] \n",
    "dfBudget = df(data, columns = ['Estimated_Budget']) \n",
    "dfBudget"
   ]
  },
  {
   "cell_type": "markdown",
   "metadata": {},
   "source": [
    "The important thing to note here is the model is a hypothetical analysis of the data provided.The predicitions are not\n",
    "\n",
    "100% accurate,but there is a high possibility that the predictions would tuurn out to be true..\n"
   ]
  },
  {
   "cell_type": "code",
   "execution_count": 20,
   "metadata": {},
   "outputs": [
    {
     "data": {
      "text/plain": [
       "54993990.929582946"
      ]
     },
     "execution_count": 20,
     "metadata": {},
     "output_type": "execute_result"
    }
   ],
   "source": [
    "regressionObject.coef_[0][0] * dfBudget.loc[0]['Estimated_Budget'] + regressionObject.intercept_[0]"
   ]
  },
  {
   "cell_type": "markdown",
   "metadata": {},
   "source": [
    "\n",
    "SUMMARY\n",
    "\n",
    "This is just an insight to the concepts of machine learning,data science and linear regression.\n",
    "\n",
    "it demonstrated how to build and analyse the machine learning linear regression model through various steps which will\n",
    "\n",
    "eventually enable you to predict the outcome for practical problems"
   ]
  },
  {
   "cell_type": "code",
   "execution_count": null,
   "metadata": {},
   "outputs": [],
   "source": []
  }
 ],
 "metadata": {
  "kernelspec": {
   "display_name": "Python 3",
   "language": "python",
   "name": "python3"
  },
  "language_info": {
   "codemirror_mode": {
    "name": "ipython",
    "version": 3
   },
   "file_extension": ".py",
   "mimetype": "text/x-python",
   "name": "python",
   "nbconvert_exporter": "python",
   "pygments_lexer": "ipython3",
   "version": "3.7.6"
  }
 },
 "nbformat": 4,
 "nbformat_minor": 2
}
